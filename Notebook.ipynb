{
  "nbformat": 4,
  "nbformat_minor": 0,
  "metadata": {
    "colab": {
      "name": "Main Notebook.ipynb",
      "provenance": [],
      "authorship_tag": "ABX9TyM+IdfyvPO3bwkZ+4lf1Qhb"
    },
    "kernelspec": {
      "name": "python3",
      "display_name": "Python 3"
    },
    "language_info": {
      "name": "python"
    }
  },
  "cells": [
    {
      "cell_type": "code",
      "source": [
        "from pathlib import Path\n",
        "import os\n",
        "from google.colab import drive\n",
        "\n",
        "%cd /content\n",
        "!curl -o ERL.py 'https://raw.githubusercontent.com/vuhh2002/CS106-Evolutionary-Reinforcement-Learning-for-Continuous-Control-Problems/main/ERL.py'\n",
        "from ERL import ERL\n",
        "\n",
        "!apt-get install swig cmake ffmpeg freeglut3-dev xvfb"
      ],
      "metadata": {
        "id": "W0q7YdnDgrAh"
      },
      "execution_count": 19,
      "outputs": []
    },
    {
      "cell_type": "code",
      "source": [
        "drive_dir = Path('/content/drive')\n",
        "root_dir = drive_dir / 'MyDrive' / 'CS106'\n",
        "weight_dir = root_dir / 'weights'\n",
        "zoo_dir = root_dir / 'rl-baselines3-zoo/'\n",
        "\n",
        "drive.mount(str(drive_dir))\n",
        "os.symlink(root_dir, '/content/CS106')"
      ],
      "metadata": {
        "id": "J7yac6_dgfPA"
      },
      "execution_count": null,
      "outputs": []
    },
    {
      "cell_type": "code",
      "source": [
        "# !rm -rf {zoo_dir}\n",
        "# !git clone --recursive https://github.com/DLR-RM/rl-baselines3-zoo {zoo_dir}"
      ],
      "metadata": {
        "id": "TLhZPEvLmXMO"
      },
      "execution_count": null,
      "outputs": []
    },
    {
      "cell_type": "code",
      "source": [
        "!pip install -r {zoo_dir}/requirements.txt"
      ],
      "metadata": {
        "id": "qmnMg62ikWvo"
      },
      "execution_count": null,
      "outputs": []
    },
    {
      "cell_type": "code",
      "source": [
        "steps_to_save = [1e2, 1e3, 1e4, 1e5, 1e6]\n",
        "steps_to_save = list(map(int, steps_to_save))"
      ],
      "metadata": {
        "id": "TczF1PZzgmYz",
        "colab": {
          "base_uri": "https://localhost:8080/"
        },
        "outputId": "d4ca9114-f5b3-4b4c-e324-6eb240a05a0b"
      },
      "execution_count": 8,
      "outputs": [
        {
          "output_type": "stream",
          "name": "stdout",
          "text": [
            "[100, 1000, 10000, 100000, 1000000]\n"
          ]
        }
      ]
    }
  ]
}